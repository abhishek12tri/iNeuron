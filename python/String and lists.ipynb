{
 "cells": [
  {
   "cell_type": "code",
   "execution_count": 1,
   "id": "0d183416",
   "metadata": {},
   "outputs": [
    {
     "name": "stdout",
     "output_type": "stream",
     "text": [
      "abhiabhiabhiabhiabhiabhiabhi\n"
     ]
    }
   ],
   "source": [
    "s = 'abhi'\n",
    "print(s * 7)"
   ]
  },
  {
   "cell_type": "code",
   "execution_count": 7,
   "id": "413ea86f",
   "metadata": {},
   "outputs": [
    {
     "name": "stdout",
     "output_type": "stream",
     "text": [
      "[1, 2, (2+3j), 'abhi', 1, 2, (2+3j), 'abhi', 1, 2, (2+3j), 'abhi', 1, 2, (2+3j), 'abhi', 1, 2, (2+3j), 'abhi']\n",
      "['(2+3j)' '1' '2' 'abhi']\n"
     ]
    }
   ],
   "source": [
    "a_list = [1, 2, 2 + 3j , 'abhi']\n",
    "print(a_list * 5)\n",
    "import numpy as np\n",
    "print(np.unique(a_list * 5)) # converts into string"
   ]
  },
  {
   "cell_type": "code",
   "execution_count": 8,
   "id": "cbeba65c",
   "metadata": {},
   "outputs": [
    {
     "data": {
      "text/plain": [
       "'ABHI'"
      ]
     },
     "execution_count": 8,
     "metadata": {},
     "output_type": "execute_result"
    }
   ],
   "source": [
    "s.upper()"
   ]
  },
  {
   "cell_type": "code",
   "execution_count": 12,
   "id": "3d9d44b1",
   "metadata": {},
   "outputs": [
    {
     "name": "stdout",
     "output_type": "stream",
     "text": [
      "['My', 'name', 'is', 'abhi', '.']\n",
      "My name is abhi .\n"
     ]
    }
   ],
   "source": [
    "string = 'My name is  abhi  . '\n",
    "a_list = string.split()\n",
    "print(a_list)\n",
    "print(' '.join(a_list))"
   ]
  },
  {
   "cell_type": "code",
   "execution_count": 15,
   "id": "89c69379",
   "metadata": {},
   "outputs": [
    {
     "name": "stdout",
     "output_type": "stream",
     "text": [
      "('a', 'b', 'hi')\n",
      "('a', 'bh', 'i')\n"
     ]
    }
   ],
   "source": [
    "print(s.partition('b'))\n",
    "print(s.partition('bh'))"
   ]
  },
  {
   "cell_type": "code",
   "execution_count": 17,
   "id": "207f5937",
   "metadata": {},
   "outputs": [
    {
     "name": "stdout",
     "output_type": "stream",
     "text": [
      "['', 'bhi', 'BHI', 'Bhi']\n",
      "['AbhiA', 'HIA', 'hi']\n",
      "('', 'A', 'bhiABHIABhi')\n",
      "('AbhiA', 'B', 'HIABhi')\n",
      "<class 'list'>\n",
      "<class 'tuple'>\n"
     ]
    }
   ],
   "source": [
    "s = 'AbhiABHIABhi'\n",
    "print(s.split('A'))\n",
    "print(s.split('B'))\n",
    "print(s.partition('A'))\n",
    "print(s.partition('B'))\n",
    "print(type(s.split('B')))\n",
    "print(type(s.partition('B')))"
   ]
  },
  {
   "cell_type": "code",
   "execution_count": 19,
   "id": "ce085a08",
   "metadata": {},
   "outputs": [
    {
     "data": {
      "text/plain": [
       "9"
      ]
     },
     "execution_count": 19,
     "metadata": {},
     "output_type": "execute_result"
    }
   ],
   "source": [
    "s.find('h') # finds 1st occurance\n",
    "s.find('z')\n",
    "s.find('Bh')"
   ]
  },
  {
   "cell_type": "code",
   "execution_count": 21,
   "id": "caa0aaef",
   "metadata": {},
   "outputs": [
    {
     "name": "stdout",
     "output_type": "stream",
     "text": [
      "AbhiABHIABhi\n",
      "zzzzzzzAbhiABHIABhizzzzzz\n"
     ]
    }
   ],
   "source": [
    "print(s.center(5, 'z'))\n",
    "print(s.center(25, 'z'))"
   ]
  },
  {
   "cell_type": "code",
   "execution_count": 28,
   "id": "6b998a87",
   "metadata": {},
   "outputs": [
    {
     "name": "stdout",
     "output_type": "stream",
     "text": [
      "['abhi', 'Trivedi', 'Ab', 'hi', 'A']\n",
      "abhi    Trivedi Ab      hi      A\n"
     ]
    }
   ],
   "source": [
    "s = 'abhi\\tTrivedi\\tAb\\thi\\tA'\n",
    "print(s.split('\\t'))\n",
    "print(s.expandtabs())#Watch- Single space for isUpper...?"
   ]
  },
  {
   "cell_type": "code",
   "execution_count": 29,
   "id": "37250175",
   "metadata": {},
   "outputs": [
    {
     "data": {
      "text/plain": [
       "'My name is Abhi Trivedi'"
      ]
     },
     "execution_count": 29,
     "metadata": {},
     "output_type": "execute_result"
    }
   ],
   "source": [
    "'My name is {} {}'.format('Abhi', 'Trivedi')"
   ]
  },
  {
   "cell_type": "code",
   "execution_count": 34,
   "id": "bb483898",
   "metadata": {},
   "outputs": [
    {
     "name": "stdout",
     "output_type": "stream",
     "text": [
      "First Name Abhi\n",
      "Last Name Trivedi\n",
      "My name is Abhi Trivedi\n",
      "My name is Abhi\n"
     ]
    },
    {
     "ename": "IndexError",
     "evalue": "Replacement index 1 out of range for positional args tuple",
     "output_type": "error",
     "traceback": [
      "\u001b[0;31m---------------------------------------------------------------------------\u001b[0m",
      "\u001b[0;31mIndexError\u001b[0m                                Traceback (most recent call last)",
      "\u001b[0;32m<ipython-input-34-794efffedfde>\u001b[0m in \u001b[0;36m<module>\u001b[0;34m\u001b[0m\n\u001b[1;32m      4\u001b[0m \u001b[0mprint\u001b[0m\u001b[0;34m(\u001b[0m\u001b[0;34m'My name is {} {}'\u001b[0m\u001b[0;34m.\u001b[0m\u001b[0mformat\u001b[0m\u001b[0;34m(\u001b[0m\u001b[0ma\u001b[0m\u001b[0;34m,\u001b[0m \u001b[0mb\u001b[0m\u001b[0;34m)\u001b[0m\u001b[0;34m)\u001b[0m\u001b[0;34m\u001b[0m\u001b[0;34m\u001b[0m\u001b[0m\n\u001b[1;32m      5\u001b[0m \u001b[0mprint\u001b[0m\u001b[0;34m(\u001b[0m\u001b[0;34m'My name is {}'\u001b[0m\u001b[0;34m.\u001b[0m\u001b[0mformat\u001b[0m\u001b[0;34m(\u001b[0m\u001b[0ma\u001b[0m\u001b[0;34m,\u001b[0m \u001b[0mb\u001b[0m\u001b[0;34m)\u001b[0m\u001b[0;34m)\u001b[0m\u001b[0;34m\u001b[0m\u001b[0;34m\u001b[0m\u001b[0m\n\u001b[0;32m----> 6\u001b[0;31m \u001b[0mprint\u001b[0m\u001b[0;34m(\u001b[0m\u001b[0;34m'My name is {} {}'\u001b[0m\u001b[0;34m.\u001b[0m\u001b[0mformat\u001b[0m\u001b[0;34m(\u001b[0m\u001b[0ma\u001b[0m\u001b[0;34m)\u001b[0m\u001b[0;34m)\u001b[0m\u001b[0;34m\u001b[0m\u001b[0;34m\u001b[0m\u001b[0m\n\u001b[0m",
      "\u001b[0;31mIndexError\u001b[0m: Replacement index 1 out of range for positional args tuple"
     ]
    }
   ],
   "source": [
    "a = input('First Name ')\n",
    "b = input('Last Name ')\n",
    "\n",
    "print('My name is {} {}'.format(a, b))\n",
    "print('My name is {}'.format(a, b))\n",
    "print('My name is {} {}'.format(a))"
   ]
  },
  {
   "cell_type": "markdown",
   "id": "73d53635",
   "metadata": {},
   "source": [
    "## List"
   ]
  },
  {
   "cell_type": "code",
   "execution_count": 2,
   "id": "bb24237f",
   "metadata": {},
   "outputs": [
    {
     "name": "stdout",
     "output_type": "stream",
     "text": [
      "[1, 2, (2+3j), 'abhi']\n",
      "[1, 2, (2+3j), 'abhi', 'eof', 1, 2, (2+3j), 'abhi']\n",
      "[1, 2, (2+3j), 'abhi', 'eof', 1, 2, (2+3j), 'abhi', 1, 2, (2+3j), 'abhi']\n",
      "[1, 2, (2+3j), 'abhi', 'eof', 1, 2, (2+3j), 'abhi', 1, 2, (2+3j), 'abhi', 'eof', 1, 2, (2+3j), 'abhi']\n"
     ]
    }
   ],
   "source": [
    "list1 = [1, 2, 2 + 3j , 'abhi']\n",
    "list2 = []\n",
    "for i in list1:\n",
    "    list2.append(i)\n",
    "print(list2)\n",
    "list2.append('eof')\n",
    "print(list2+list1)\n",
    "print(list2+list1 * 2)\n",
    "print((list2+list1)* 2)"
   ]
  },
  {
   "cell_type": "code",
   "execution_count": 10,
   "id": "0627c83a",
   "metadata": {},
   "outputs": [
    {
     "name": "stdout",
     "output_type": "stream",
     "text": [
      "[1, 2, (2+3j), 'abhi']\n",
      "[1, 2, (2+3j), 'abhi']\n",
      "[1, 2, (2+3j), 'abhi', 'eof']\n"
     ]
    },
    {
     "data": {
      "text/plain": [
       "[1, 2, (2+3j), 'abhi', 'eof', 'A', 'b', 'h', 'i']"
      ]
     },
     "execution_count": 10,
     "metadata": {},
     "output_type": "execute_result"
    }
   ],
   "source": [
    "list1 + ['Abhi']\n",
    "print(list1)\n",
    "a = list(\"Abhi\")\n",
    "list1 + a\n",
    "list2 + a\n",
    "\n",
    "list1 + list(\"Abhi\")\n",
    "\n",
    "print(list1)\n",
    "print(list2)\n",
    "\n",
    "list(\"Abhi\")\n",
    "list2 + a # Issue of print with primitive operation"
   ]
  },
  {
   "cell_type": "code",
   "execution_count": 13,
   "id": "9827d37d",
   "metadata": {},
   "outputs": [
    {
     "name": "stdout",
     "output_type": "stream",
     "text": [
      "[1, 2, 'sfs', 'sfs', (2+3j), 'abhi']\n",
      "[1, 2, 'sfs', 'sfs', 'sfs', (2+3j), 'abhi']\n",
      "[1, 2, 'sfs', 'sfs', 'sfs', (2+3j), 'zzzz', 'abhi']\n"
     ]
    }
   ],
   "source": [
    "print(list1)\n",
    "list1.insert(2, 'sfs')\n",
    "print(list1)\n",
    "list1.insert(-1, 'zzzz')\n",
    "\n",
    "print(list1)"
   ]
  },
  {
   "cell_type": "code",
   "execution_count": 14,
   "id": "55f02b50",
   "metadata": {},
   "outputs": [
    {
     "data": {
      "text/plain": [
       "'abhi'"
      ]
     },
     "execution_count": 14,
     "metadata": {},
     "output_type": "execute_result"
    }
   ],
   "source": [
    "list1.pop()"
   ]
  },
  {
   "cell_type": "markdown",
   "id": "b66cd8ba",
   "metadata": {},
   "source": [
    "## List Comprehension "
   ]
  },
  {
   "cell_type": "code",
   "execution_count": 20,
   "id": "a3b81fd2",
   "metadata": {},
   "outputs": [
    {
     "name": "stdout",
     "output_type": "stream",
     "text": [
      "[2, 4, 6, 8, 10]\n"
     ]
    }
   ],
   "source": [
    "a = [1, 2, 3, 4, 5]\n",
    "m = []\n",
    "for i in a:\n",
    "    m.append(i * 2)\n",
    "print(m)"
   ]
  },
  {
   "cell_type": "code",
   "execution_count": 21,
   "id": "3d8db3b8",
   "metadata": {},
   "outputs": [
    {
     "data": {
      "text/plain": [
       "[2, 4, 6, 8, 10]"
      ]
     },
     "execution_count": 21,
     "metadata": {},
     "output_type": "execute_result"
    }
   ],
   "source": [
    "[i*2 for i in a]"
   ]
  },
  {
   "cell_type": "code",
   "execution_count": 22,
   "id": "1cd05b68",
   "metadata": {},
   "outputs": [
    {
     "name": "stdout",
     "output_type": "stream",
     "text": [
      "[1, 2, 3, 4, 5, ['abhi']]\n",
      "[1, 2, 3, 4, 5, ['abhi'], 4, 5, 6, 6, ['abhi', 'trivedi']]\n"
     ]
    }
   ],
   "source": [
    "a.append(['abhi'])\n",
    "print(a)\n",
    "a.extend([4,5,6,6, ['abhi', 'trivedi']])\n",
    "print(a)"
   ]
  },
  {
   "cell_type": "code",
   "execution_count": 23,
   "id": "2e9fc31f",
   "metadata": {},
   "outputs": [
    {
     "data": {
      "text/plain": [
       "3"
      ]
     },
     "execution_count": 23,
     "metadata": {},
     "output_type": "execute_result"
    }
   ],
   "source": [
    "a.index(4)#1st  Occurance"
   ]
  },
  {
   "cell_type": "code",
   "execution_count": null,
   "id": "6278964d",
   "metadata": {},
   "outputs": [],
   "source": []
  }
 ],
 "metadata": {
  "kernelspec": {
   "display_name": "Python 3",
   "language": "python",
   "name": "python3"
  },
  "language_info": {
   "codemirror_mode": {
    "name": "ipython",
    "version": 3
   },
   "file_extension": ".py",
   "mimetype": "text/x-python",
   "name": "python",
   "nbconvert_exporter": "python",
   "pygments_lexer": "ipython3",
   "version": "3.8.8"
  }
 },
 "nbformat": 4,
 "nbformat_minor": 5
}
