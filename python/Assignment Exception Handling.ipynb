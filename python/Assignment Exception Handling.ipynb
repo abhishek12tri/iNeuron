{
 "cells": [
  {
   "cell_type": "markdown",
   "id": "08fa1ab8",
   "metadata": {},
   "source": [
    "Q1. Write a function to compute 5/0 and use try/except to catch the exceptions."
   ]
  },
  {
   "cell_type": "code",
   "execution_count": 6,
   "id": "68e0f229",
   "metadata": {},
   "outputs": [
    {
     "name": "stdout",
     "output_type": "stream",
     "text": [
      "Handling division by zero\n"
     ]
    }
   ],
   "source": [
    "def devide_by_zero_test(number):\n",
    "    try:\n",
    "        print(number / 0)\n",
    "    except ZeroDivisionError as v:\n",
    "        print('Handling', v)\n",
    "    except Exception as e:\n",
    "        print(e, 'can not be possible')\n",
    "    \n",
    "devide_by_zero_test(5)"
   ]
  },
  {
   "cell_type": "markdown",
   "id": "5ff8a08c",
   "metadata": {},
   "source": [
    "Q2. Implement a Python program to generate all sentences where subject is in\n",
    "[\"Americans\", \"Indians\"] and verb is in [\"Play\", \"watch\"] and the object is in\n",
    "[\"Baseball\",\"cricket\"]."
   ]
  },
  {
   "cell_type": "code",
   "execution_count": 15,
   "id": "d629a8e0",
   "metadata": {},
   "outputs": [
    {
     "name": "stdout",
     "output_type": "stream",
     "text": [
      "Americans Play Baseball\n",
      "Americans Play cricket\n",
      "Americans watch Baseball\n",
      "Americans watch cricket\n",
      "Indians Play Baseball\n",
      "Indians Play cricket\n",
      "Indians watch Baseball\n",
      "Indians watch cricket\n"
     ]
    }
   ],
   "source": [
    "subjects = [\"Americans\", \"Indians\"]\n",
    "verbs = [\"Play\", \"watch\"]\n",
    "objects = [\"Baseball\",\"cricket\"]\n",
    "\n",
    "out_data = [subs+' '+verb+' '+objs for subs in subjects for verb in verbs for objs in objects]\n",
    "for sentence in out_data:\n",
    "    print(sentence, end='\\n')"
   ]
  },
  {
   "cell_type": "code",
   "execution_count": null,
   "id": "4c1480bd",
   "metadata": {},
   "outputs": [],
   "source": []
  }
 ],
 "metadata": {
  "kernelspec": {
   "display_name": "Python 3",
   "language": "python",
   "name": "python3"
  },
  "language_info": {
   "codemirror_mode": {
    "name": "ipython",
    "version": 3
   },
   "file_extension": ".py",
   "mimetype": "text/x-python",
   "name": "python",
   "nbconvert_exporter": "python",
   "pygments_lexer": "ipython3",
   "version": "3.8.8"
  }
 },
 "nbformat": 4,
 "nbformat_minor": 5
}
