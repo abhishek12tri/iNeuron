{
 "cells": [
  {
   "cell_type": "markdown",
   "id": "8cb7fe07",
   "metadata": {},
   "source": [
    "Q1. Write a Python Program(with class concepts) to find the area of the triangle using the below\n",
    "formula.\n",
    "\n",
    "area = (s*(s-a)*(s-b)*(s-c)) ** 0.5\n",
    "\n",
    "Function to take the length of the sides of triangle from user should be defined in the parent\n",
    "class and function to calculate the area should be defined in subclass."
   ]
  },
  {
   "cell_type": "code",
   "execution_count": 11,
   "id": "5a64272f",
   "metadata": {},
   "outputs": [
    {
     "name": "stdout",
     "output_type": "stream",
     "text": [
      "5\n",
      "5\n",
      "5\n",
      "Area: 10.825317547305483\n"
     ]
    }
   ],
   "source": [
    "class Triangle:\n",
    "    def __init__(self, a_side, b_side, c_side):\n",
    "        self.a_side = a_side\n",
    "        self.b_side = b_side\n",
    "        self.c_side = c_side\n",
    "    def area_triangle(self):\n",
    "        semi_peri = (self.a_side + self.b_side + self.c_side) / 2\n",
    "        return (semi_peri * (semi_peri - self.a_side) * (semi_peri - self.b_side)* (semi_peri - self.c_side)) ** 0.5\n",
    "    \n",
    "a = int(input())\n",
    "b = int(input())\n",
    "c = int(input())\n",
    "t = Triangle(a,b,c)\n",
    "print('Area: '+str(t.area_triangle()))"
   ]
  },
  {
   "cell_type": "markdown",
   "id": "58f9ba88",
   "metadata": {},
   "source": [
    "Q2. Write a function filter_long_words() that takes a list of words and an integer n and returns\n",
    "the list of words that are longer than n."
   ]
  },
  {
   "cell_type": "code",
   "execution_count": 9,
   "id": "a54caa43",
   "metadata": {},
   "outputs": [
    {
     "name": "stdout",
     "output_type": "stream",
     "text": [
      "['Hello', 'well', 'good habit']\n"
     ]
    }
   ],
   "source": [
    "def filter_long_words(list_strs, len_threshold):\n",
    "    list_prep = list(filter(lambda x : len(x) > len_threshold, list_strs))\n",
    "    return list_prep\n",
    "    \n",
    "list_strs = ['Hi', ',', 'Hello', 'All', 'well', '?', 'good habit']\n",
    "print(filter_long_words(list_strs, 3))"
   ]
  },
  {
   "cell_type": "markdown",
   "id": "2a71062e",
   "metadata": {},
   "source": [
    "Q3. Write a Python program using function concept that maps list of words into a list of integers\n",
    "representing the lengths of the corresponding words."
   ]
  },
  {
   "cell_type": "code",
   "execution_count": 11,
   "id": "9d499aeb",
   "metadata": {},
   "outputs": [
    {
     "name": "stdout",
     "output_type": "stream",
     "text": [
      "[2, 1, 5, 3, 4, 1, 10]\n"
     ]
    }
   ],
   "source": [
    "def str_to_len(list_strs):\n",
    "    list_lengths = [len(x) for x in list_strs]\n",
    "    return list_lengths\n",
    "    \n",
    "    \n",
    "list_strs = ['Hi', ',', 'Hello', 'All', 'well', '?', 'good habit']\n",
    "print(str_to_len(list_strs))"
   ]
  },
  {
   "cell_type": "markdown",
   "id": "b3b3d5bd",
   "metadata": {},
   "source": [
    "Q4. Write a Python function which takes a character (i.e. a string of length 1) and returns True if\n",
    "it is a vowel, False otherwise."
   ]
  },
  {
   "cell_type": "code",
   "execution_count": 14,
   "id": "584ebf9e",
   "metadata": {},
   "outputs": [
    {
     "name": "stdout",
     "output_type": "stream",
     "text": [
      "True\n",
      "False\n",
      "True\n",
      "False\n"
     ]
    }
   ],
   "source": [
    "def check_is_vowel(char):\n",
    "    return char in ['a', 'e', 'i', 'o', 'u']\n",
    "\n",
    "print(check_is_vowel('a'))\n",
    "print(check_is_vowel('g'))\n",
    "print(check_is_vowel('o'))\n",
    "print(check_is_vowel('n'))"
   ]
  }
 ],
 "metadata": {
  "kernelspec": {
   "display_name": "Python 3",
   "language": "python",
   "name": "python3"
  },
  "language_info": {
   "codemirror_mode": {
    "name": "ipython",
    "version": 3
   },
   "file_extension": ".py",
   "mimetype": "text/x-python",
   "name": "python",
   "nbconvert_exporter": "python",
   "pygments_lexer": "ipython3",
   "version": "3.8.8"
  }
 },
 "nbformat": 4,
 "nbformat_minor": 5
}
