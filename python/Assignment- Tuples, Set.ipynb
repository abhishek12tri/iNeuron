{
 "cells": [
  {
   "cell_type": "markdown",
   "id": "4da1df02",
   "metadata": {},
   "source": [
    "Q1. Write a Python Program to implement your own myreduce() function which works exactly\n",
    "like Python's built-in function reduce()"
   ]
  },
  {
   "cell_type": "code",
   "execution_count": 5,
   "id": "a00a533f",
   "metadata": {},
   "outputs": [
    {
     "name": "stdout",
     "output_type": "stream",
     "text": [
      "List Sum:  31\n",
      "List Max:  6\n"
     ]
    }
   ],
   "source": [
    "#Getting sum from list \n",
    "def sum_data(itr):\n",
    "    itersum = 0\n",
    "    for i in (itr):\n",
    "        itersum += i\n",
    "    return itersum\n",
    "\n",
    "#Getting Maximum from list \n",
    "def get_max(itr):\n",
    "    return max(itr)\n",
    "\n",
    "# Reduce like function\n",
    "def myreduce( function, itr):\n",
    "    return function(itr)\n",
    "\n",
    "print('List Sum: ',myreduce(sum_data, [1,2,3,4,5,5,5,6]))\n",
    "print('List Max: ',myreduce(get_max, [1,2,3,4,5,5,5,6]))"
   ]
  },
  {
   "cell_type": "markdown",
   "id": "1b598323",
   "metadata": {},
   "source": [
    "Q2. Write a Python program to implement your own myfilter() function which works exactly\n",
    "like Python's built-in function filter()"
   ]
  },
  {
   "cell_type": "code",
   "execution_count": 25,
   "id": "f4f85a48",
   "metadata": {},
   "outputs": [
    {
     "name": "stdout",
     "output_type": "stream",
     "text": [
      "Vowels:  ['a', 'i', 'e', 'i', 'o', 'a']\n"
     ]
    }
   ],
   "source": [
    "# Getting vowels from list of characters\n",
    "def get_vowels(itr):\n",
    "    vowels = ['a', 'e', 'i', 'o', 'u']\n",
    "    prepare = []\n",
    "    for char in itr:\n",
    "        if char in vowels:\n",
    "            prepare.append(char)\n",
    "    return prepare\n",
    "            \n",
    "def myfilter(function_name, itr):\n",
    "    return function_name(itr)\n",
    "\n",
    "print('Vowels: ', myreduce(get_vowels, ['a', 'k', 'i', '_', 'k', 'j', 'e', 'i', 'm', 'o', 'a']))"
   ]
  },
  {
   "cell_type": "markdown",
   "id": "764e1d53",
   "metadata": {},
   "source": [
    "Q- Print Pattern- ['x', 'xx', 'xxx', 'xxxx', 'y', 'yy', 'yyy', 'yyyy', 'z', 'zz', 'zzz', 'zzzz']"
   ]
  },
  {
   "cell_type": "code",
   "execution_count": 31,
   "id": "8923dfe8",
   "metadata": {},
   "outputs": [
    {
     "name": "stdout",
     "output_type": "stream",
     "text": [
      "['x', 'xx', 'xxx', 'xxxx', 'y', 'yy', 'yyy', 'yyyy', 'z', 'zz', 'zzz', 'zzzz']\n"
     ]
    }
   ],
   "source": [
    "chars = ['x', 'y', 'z']; max_num = 4;\n",
    "\n",
    "print([char*j for char in chars for j in range(1, max_num+1)])"
   ]
  },
  {
   "cell_type": "markdown",
   "id": "ef7e6112",
   "metadata": {},
   "source": [
    "Q- Print Pattern- ['x', 'y', 'z', 'xx', 'yy', 'zz', 'xxx', 'yyy', 'zzz', 'xxxx', 'yyyy', 'zzzz']"
   ]
  },
  {
   "cell_type": "code",
   "execution_count": 34,
   "id": "7c157409",
   "metadata": {},
   "outputs": [
    {
     "name": "stdout",
     "output_type": "stream",
     "text": [
      "['x', 'y', 'z', 'xx', 'yy', 'zz', 'xxx', 'yyy', 'zzz', 'xxxx', 'yyyy', 'zzzz']\n"
     ]
    }
   ],
   "source": [
    "chars = ['x', 'y', 'z']; max_num = 4;\n",
    "\n",
    "print([char*j for j in range(1, max_num+1) for char in chars])"
   ]
  },
  {
   "cell_type": "markdown",
   "id": "d701db18",
   "metadata": {},
   "source": [
    "Print pattern: [[2], [3], [4], [3], [4], [5], [4], [5], [6]] "
   ]
  },
  {
   "cell_type": "code",
   "execution_count": 38,
   "id": "3132a4fb",
   "metadata": {},
   "outputs": [
    {
     "name": "stdout",
     "output_type": "stream",
     "text": [
      "[[2], [3], [4], [3], [4], [5], [4], [5], [6]]\n"
     ]
    }
   ],
   "source": [
    "print([[i+k] for i in range(2,5) for k in range(3)])"
   ]
  },
  {
   "cell_type": "markdown",
   "id": "02d22597",
   "metadata": {},
   "source": [
    "Print Pattern: [[2, 3, 4, 5], [3, 4, 5, 6],[4, 5, 6, 7], [5, 6, 7, 8]]"
   ]
  },
  {
   "cell_type": "code",
   "execution_count": 42,
   "id": "db0a05e4",
   "metadata": {},
   "outputs": [
    {
     "name": "stdout",
     "output_type": "stream",
     "text": [
      "[[2, 3, 4, 5], [3, 4, 5, 6], [4, 5, 6, 7], [5, 6, 7, 8]]\n"
     ]
    }
   ],
   "source": [
    "print([[i+k for k in range(4)] for i in range(2,6) ])"
   ]
  },
  {
   "cell_type": "markdown",
   "id": "54d043a6",
   "metadata": {},
   "source": [
    "Print Pattern: [(1, 1), (2, 1), (3, 1), (1, 2), (2, 2), (3, 2), (1, 3), (2, 3), (3, 3)]"
   ]
  },
  {
   "cell_type": "code",
   "execution_count": 44,
   "id": "edf28a58",
   "metadata": {},
   "outputs": [
    {
     "name": "stdout",
     "output_type": "stream",
     "text": [
      "[(1, 1), (2, 1), (3, 1), (1, 2), (2, 2), (3, 2), (1, 3), (2, 3), (3, 3)]\n"
     ]
    }
   ],
   "source": [
    "print([(j, i) for i in range(1, 4) for j in range(1, 4)])"
   ]
  },
  {
   "cell_type": "code",
   "execution_count": null,
   "id": "83993157",
   "metadata": {},
   "outputs": [],
   "source": []
  }
 ],
 "metadata": {
  "kernelspec": {
   "display_name": "Python 3",
   "language": "python",
   "name": "python3"
  },
  "language_info": {
   "codemirror_mode": {
    "name": "ipython",
    "version": 3
   },
   "file_extension": ".py",
   "mimetype": "text/x-python",
   "name": "python",
   "nbconvert_exporter": "python",
   "pygments_lexer": "ipython3",
   "version": "3.8.8"
  }
 },
 "nbformat": 4,
 "nbformat_minor": 5
}
