{
 "cells": [
  {
   "cell_type": "markdown",
   "id": "77558c4c",
   "metadata": {},
   "source": [
    "## Question- 1"
   ]
  },
  {
   "cell_type": "code",
   "execution_count": 16,
   "id": "21a78b6f",
   "metadata": {},
   "outputs": [
    {
     "name": "stdout",
     "output_type": "stream",
     "text": [
      "\n",
      "* \n",
      "* * \n",
      "* * * \n",
      "* * * * \n",
      "* * * * * \n",
      "* * * * \n",
      "* * * \n",
      "* * \n",
      "* \n"
     ]
    }
   ],
   "source": [
    "rows = 10\n",
    "for row in range(rows):\n",
    "    for columns in range(row):\n",
    "        if(row <= rows/2):\n",
    "            print ('*', end = ' ')\n",
    "        else:\n",
    "            if(columns < (rows - row)):\n",
    "                print ('*', end = ' ')\n",
    "            else:\n",
    "                continue\n",
    "    print()"
   ]
  },
  {
   "cell_type": "markdown",
   "id": "bd75167e",
   "metadata": {},
   "source": [
    "## Question- 2"
   ]
  },
  {
   "cell_type": "code",
   "execution_count": 17,
   "id": "608f51cc",
   "metadata": {},
   "outputs": [
    {
     "name": "stdout",
     "output_type": "stream",
     "text": [
      "Input word: Abhishek\n",
      "Output: kehsihbA\n"
     ]
    }
   ],
   "source": [
    "str1 = input('Input word: ')\n",
    "print('Output: '+str1[::-1])"
   ]
  },
  {
   "cell_type": "code",
   "execution_count": null,
   "id": "ceb964bd",
   "metadata": {},
   "outputs": [],
   "source": []
  }
 ],
 "metadata": {
  "kernelspec": {
   "display_name": "Python 3",
   "language": "python",
   "name": "python3"
  },
  "language_info": {
   "codemirror_mode": {
    "name": "ipython",
    "version": 3
   },
   "file_extension": ".py",
   "mimetype": "text/x-python",
   "name": "python",
   "nbconvert_exporter": "python",
   "pygments_lexer": "ipython3",
   "version": "3.8.8"
  }
 },
 "nbformat": 4,
 "nbformat_minor": 5
}
