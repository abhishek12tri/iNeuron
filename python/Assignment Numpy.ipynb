{
 "cells": [
  {
   "cell_type": "markdown",
   "id": "23400158",
   "metadata": {},
   "source": [
    "Q1. Write a function so that the columns of the output matrix are powers of the input\n",
    "vector."
   ]
  },
  {
   "cell_type": "code",
   "execution_count": 1,
   "id": "d2362475",
   "metadata": {},
   "outputs": [],
   "source": [
    "import numpy as np"
   ]
  },
  {
   "cell_type": "code",
   "execution_count": 2,
   "id": "f7755dbe",
   "metadata": {},
   "outputs": [
    {
     "name": "stdout",
     "output_type": "stream",
     "text": [
      "[[   1    2    3    4    5]\n",
      " [   1    4    9   16   25]\n",
      " [   1    8   27   64  125]\n",
      " [   1   16   81  256  625]\n",
      " [   1   32  243 1024 3125]]\n"
     ]
    }
   ],
   "source": [
    "input_vec = [1, 2, 3, 4, 5]\n",
    "input_copy = input_vec\n",
    "\n",
    "def list_power(list_a, num):\n",
    "    return [x**num for x in list_a]\n",
    "for i in range(2, len(input_vec)+1):\n",
    "    input_vec = np.vstack((input_vec, list_power(input_copy, i)))\n",
    "print(input_vec)"
   ]
  },
  {
   "cell_type": "markdown",
   "id": "982b8893",
   "metadata": {},
   "source": [
    "Q2. Write a function so that the columns of the output matrix are powers of the input\n",
    "vector.\n",
    "\n",
    "The order of the powers is determined by the increasing boolean argument. Specifically, when\n",
    "increasing is False, the i-th output column is the input vector raised element-wise to the power\n",
    "of N - i - 1."
   ]
  },
  {
   "cell_type": "code",
   "execution_count": 4,
   "id": "39bc7579",
   "metadata": {},
   "outputs": [
    {
     "data": {
      "text/plain": [
       "array([[  1,   1,   1,   1,   1],\n",
       "       [ 16,   8,   4,   2,   1],\n",
       "       [ 81,  27,   9,   3,   1],\n",
       "       [256,  64,  16,   4,   1],\n",
       "       [625, 125,  25,   5,   1]])"
      ]
     },
     "execution_count": 4,
     "metadata": {},
     "output_type": "execute_result"
    }
   ],
   "source": [
    "x = np.array([1, 2, 3, 4, 5])\n",
    "N = 5\n",
    "mat = np.column_stack([x ** (N-i-1) for i in range(N)])\n",
    "mat"
   ]
  },
  {
   "cell_type": "markdown",
   "id": "1a8251c1",
   "metadata": {},
   "source": [
    "Question: Write a function to find moving average in an array over a window:\n",
    "Test it over [3, 5, 7, 2, 8, 10, 11, 65, 72, 81, 99, 100, 150] and window of 3."
   ]
  },
  {
   "cell_type": "code",
   "execution_count": 20,
   "id": "48d7c988",
   "metadata": {},
   "outputs": [
    {
     "name": "stdout",
     "output_type": "stream",
     "text": [
      "Moving Array Average\n",
      "5.0\n",
      "4.666666666666667\n",
      "5.666666666666667\n",
      "6.666666666666667\n",
      "9.666666666666666\n",
      "28.666666666666668\n",
      "49.333333333333336\n",
      "72.66666666666667\n",
      "84.0\n",
      "93.33333333333333\n",
      "116.33333333333333\n"
     ]
    }
   ],
   "source": [
    "full_array = np.array([3,5,7,2,8,10,11,65,72,81,99,100,150])\n",
    "window_size = 3\n",
    "all_round = full_array.shape[0] - window_size + 1\n",
    "\n",
    "print('Moving Array Average')\n",
    "for i in range(all_round):\n",
    "    sum_a = 0\n",
    "    for j in range(window_size):\n",
    "        sum_a += full_array[i + j]\n",
    "    #print(full_array[i]+full_array[i+1]+full_array[i+2])\n",
    "    print(sum_a / window_size)"
   ]
  },
  {
   "cell_type": "code",
   "execution_count": null,
   "id": "199efa5e",
   "metadata": {},
   "outputs": [],
   "source": []
  }
 ],
 "metadata": {
  "kernelspec": {
   "display_name": "Python 3",
   "language": "python",
   "name": "python3"
  },
  "language_info": {
   "codemirror_mode": {
    "name": "ipython",
    "version": 3
   },
   "file_extension": ".py",
   "mimetype": "text/x-python",
   "name": "python",
   "nbconvert_exporter": "python",
   "pygments_lexer": "ipython3",
   "version": "3.8.8"
  }
 },
 "nbformat": 4,
 "nbformat_minor": 5
}
